{
 "cells": [
  {
   "cell_type": "code",
   "execution_count": 1,
   "metadata": {},
   "outputs": [],
   "source": [
    "def set_missing_priors_with_default(priors_dict, default_priors):\n",
    "    \n",
    "\n",
    "            \n",
    "    for prior_name, value in default_priors.items():\n",
    "        if prior_name not in priors_dict:\n",
    "            priors_dict[prior_name] = value"
   ]
  },
  {
   "cell_type": "code",
   "execution_count": 2,
   "metadata": {},
   "outputs": [],
   "source": [
    "import datetime\n",
    "import logging\n",
    "import pymc3 as pm\n",
    "import pymc3 as pm\n",
    "import theano\n",
    "import theano.tensor as tt\n",
    "import numpy as np\n",
    "from pymc3 import Model\n"
   ]
  },
  {
   "cell_type": "code",
   "execution_count": 3,
   "metadata": {},
   "outputs": [],
   "source": [
    "\n",
    "def delay_cases(cases, inp_len , out_len, diff_len, prior_mean_median=10, pr_sigma= 0.2, prior_median_width=0.3, ):\n",
    "    with pm.Model() as Covid19:\n",
    "        delay = pm.Normal(\n",
    "            name= 'delay',\n",
    "            mu = np.log(prior_mean_median),\n",
    "            sigma = pr_sigma,\n",
    "        )\n",
    "\n",
    "    with pm.Model() as Covid19:\n",
    "        pm.Deterministic(\"Delay\", np.exp(delay))\n",
    "    width = np.log(prior_median_width)\n",
    "    delay_case = delay_lognormal(cases, inp_len, out_len, tt.exp(delay), tt.exp(width),diff_len)\n",
    "    with pm.Model() as Covid19:\n",
    "        pm.Deterministic('Delay_cases',delay_case)\n",
    "    return delay_case\n"
   ]
  },
  {
   "cell_type": "code",
   "execution_count": 4,
   "metadata": {},
   "outputs": [],
   "source": [
    "  \n",
    "def delay_lognormal(cases, input_len, output_len, delay, width ,diff_len):\n",
    "    delay_mat = delay_matrix(input_len, output_len, diff_len)\n",
    "    delay_mat[delay_mat < 0.01] = 0.1\n",
    "    delayed_arr = arr_delay(cases, delay, width, delay_mat)\n",
    "    return delayed_arr\n",
    " "
   ]
  },
  {
   "cell_type": "code",
   "execution_count": 5,
   "metadata": {},
   "outputs": [],
   "source": [
    "def delay_matrix(len1, len2, diff):\n",
    "    size = max(len1,len2)\n",
    "    mat=np.zeros((size,size))\n",
    "    for i in range(size):\n",
    "        diagonal = np.ones(size - i) * (diff + i)\n",
    "        mat += np.diag(diagonal, i)\n",
    "    for i in range(1, size):\n",
    "        diagonal = np.ones(size - i) * (diff - i)\n",
    "        mat += np.diag(diagonal, -i)\n",
    "    \n",
    "    return mat[:len1, :len2]\n",
    "    \n",
    "    "
   ]
  },
  {
   "cell_type": "code",
   "execution_count": 6,
   "metadata": {},
   "outputs": [],
   "source": [
    "\n",
    "def arr_delay(cases, delay, width, delay_mat):\n",
    "    \n",
    "    mat = tt_lognormal(delay_mat, mu= np.log(delay),sigma = width)\n",
    "    delayed_arr = tt.dot(cases, mat)\n",
    "    \n",
    "    return delayed_arr\n",
    "    "
   ]
  },
  {
   "cell_type": "code",
   "execution_count": 7,
   "metadata": {},
   "outputs": [],
   "source": [
    "       \n",
    "def delay_sim_cases(new_I, lenI, len_out, delay, delay_diff):\n",
    "    delay_mat= delay_matrix(lenI, len_out, delay_diff)\n",
    "    \n",
    "    infered_cases = interpolate(new_I, delay, delay_mat)\n",
    "    return infered_cases\n",
    "    \n",
    "  "
   ]
  },
  {
   "cell_type": "code",
   "execution_count": 8,
   "metadata": {},
   "outputs": [],
   "source": [
    "\n",
    "def interpolate(array, delay, delay_matrix):\n",
    "    interp_matrix = tt.maximum(1 - tt.abs_(delay_matrix - delay), 0)\n",
    "    interpolation = tt.dot(array, interp_matrix)\n",
    "    return interpolation"
   ]
  },
  {
   "cell_type": "code",
   "execution_count": 9,
   "metadata": {},
   "outputs": [],
   "source": [
    "import warnings\n",
    "warnings.simplefilter(action='ignore', category=FutureWarning)\n",
    "\n",
    "\n",
    "import os\n",
    "import requests\n",
    "import pymc3 as pm\n",
    "import pandas as pd\n",
    "import numpy as np\n",
    "import theano\n",
    "import theano.tensor as tt\n",
    "\n",
    "from matplotlib import pyplot as plt\n",
    "from matplotlib import dates as mdates\n",
    "from matplotlib import ticker\n",
    "\n",
    "from datetime import date\n",
    "from datetime import datetime\n",
    "\n",
    "from IPython.display import clear_output\n",
    "\n",
    "import theano\n",
    "import theano.tensor as tt\n",
    "\n",
    "%config InlineBackend.figure_format = 'retina'"
   ]
  },
  {
   "cell_type": "code",
   "execution_count": 10,
   "metadata": {},
   "outputs": [],
   "source": [
    "url = \"https://raw.githubusercontent.com/owid/covid-19-data/master/public/data/owid-covid-data.csv\""
   ]
  },
  {
   "cell_type": "code",
   "execution_count": 11,
   "metadata": {},
   "outputs": [],
   "source": [
    "import pandas as pd\n",
    "import numpy as np\n",
    "import datetime as DT\n",
    "\n",
    "from matplotlib import pyplot as plt\n",
    "from matplotlib.dates import date2num, num2date\n",
    "from matplotlib import dates as mdates\n",
    "from matplotlib import ticker\n",
    "from matplotlib.colors import ListedColormap\n",
    "from matplotlib.patches import Patch\n",
    "\n",
    "from scipy import stats as sps\n",
    "from scipy.interpolate import interp1d\n",
    "\n",
    "\n",
    "from IPython.display import clear_output"
   ]
  },
  {
   "cell_type": "code",
   "execution_count": 12,
   "metadata": {},
   "outputs": [],
   "source": [
    "today = DT.datetime.now().strftime(\"%Y%m%d\")\n",
    "\n",
    "# prepare data, to get daily cases and smoothing\n",
    "def prepare_cases(cases, cutoff=25):\n",
    "\n",
    "    smoothed = cases.rolling(7,    #7 days moving window for smoothing\n",
    "        #win_type='gaussian',   #or comment whole line to have uniform\n",
    "        min_periods=1,\n",
    "        center=True).mean().round()\n",
    "    \n",
    "    idx_start = np.searchsorted(smoothed, cutoff)\n",
    "    \n",
    "    smoothed = smoothed.iloc[idx_start:]\n",
    "    original = cases.loc[smoothed.index]\n",
    "    \n",
    "    return original, smoothed"
   ]
  },
  {
   "cell_type": "code",
   "execution_count": 13,
   "metadata": {},
   "outputs": [],
   "source": [
    "path = url\n",
    "states = pd.read_csv(url,\n",
    "                    usecols=['location','date', 'new_cases'],\n",
    "                     parse_dates=['date'],\n",
    "                     index_col=['location', 'date'],\n",
    "                     squeeze=True).sort_index()\n"
   ]
  },
  {
   "cell_type": "code",
   "execution_count": 14,
   "metadata": {},
   "outputs": [],
   "source": [
    "country = ['Netherlands']\n",
    "cases = states.xs(country)\n"
   ]
  },
  {
   "cell_type": "code",
   "execution_count": 15,
   "metadata": {},
   "outputs": [],
   "source": [
    "cutoff= 25\n",
    "smoothed = cases.rolling(7,    #7 days moving window for smoothing\n",
    "        #win_type='gaussian',   #or comment whole line to have uniform\n",
    "        min_periods=1,\n",
    "        center=True).mean().round()\n",
    "    \n",
    "idx_start = np.searchsorted(smoothed, cutoff) \n",
    "    \n",
    "smoothed = smoothed.iloc[idx_start:]\n",
    "original = cases.loc[smoothed.index]"
   ]
  },
  {
   "cell_type": "code",
   "execution_count": 16,
   "metadata": {},
   "outputs": [],
   "source": [
    "#convert into array for easier handling\n",
    "original_array = original.values\n",
    "smoothed_array = smoothed.values\n",
    "\n",
    "# dates: what we have in real time are detected of cases, but they refer to infection happened several days ago\n",
    "# comparing with Nowcasting procedures, this latancy is 8±1 days\n",
    "dates = smoothed.index\n",
    "dates_detection = date2num(smoothed.index.tolist())\n",
    "dates_infection = smoothed.index - DT.timedelta(days=9)\n",
    "dates_infection = date2num(dates_infection.tolist())"
   ]
  },
  {
   "cell_type": "code",
   "execution_count": 17,
   "metadata": {},
   "outputs": [],
   "source": [
    "def tt_lognormal(x, mu, sigma):\n",
    "    x = tt.clip(x,1e-12,1e12)\n",
    "    sigma = tt.clip(sigma, 1e-12, 1e12)\n",
    "    mu = tt.clip(mu, 1e-12, 1e12)\n",
    "    distr = 1 / x * tt.exp(-((tt.log(x) - mu) ** 2) / (2 * sigma ** 2))\n",
    "    return distr / (tt.sum(distr, axis=0) + 1e-12)"
   ]
  },
  {
   "cell_type": "code",
   "execution_count": 18,
   "metadata": {},
   "outputs": [],
   "source": [
    "def lambda_t_with_sigmoids(\n",
    "    change_points_list,\n",
    "    sim_len,\n",
    "    pr_median_lambda,\n",
    "    pr_sigma_lambda_0=0.2,\n",
    "    name_lambda_t=\"lambda_t\", \n",
    "):\n",
    "    \n",
    "    lambda_list, tr_time_list, tr_len_list = _make_change_point_RVs(change_points_list, pr_median_lambda, pr_sigma_lambda_0)\n",
    "\n",
    "    # Build the time-dependent spreading rate\n",
    "    lambda_t_list = [\n",
    "        lambda_list[0] * tt.ones(sim_len)\n",
    "    ]  # model.sim_shape = (time, state)\n",
    "    lambda_before = lambda_list[0]\n",
    "\n",
    "    # Loop over all lambda values and there corresponding transient values\n",
    "    for tr_time, tr_len, lambda_after in zip(\n",
    "        tr_time_list, tr_len_list, lambda_list[1:]\n",
    "    ):\n",
    "        # Create the right shape for the time array\n",
    "        t = np.arange(sim_len)\n",
    "        tr_len = tr_len + 1e-5 \n",
    "        \n",
    "        # Applies standart sigmoid nonlinearity\n",
    "        lambda_t = tt.nnet.sigmoid((t - tr_time) / tr_len * 4) * (\n",
    "            lambda_after - lambda_before\n",
    "        )  # tr_len*4 because the derivative of the sigmoid at zero is 1/4, we want to set it to 1/tr_len\n",
    "\n",
    "        lambda_before = lambda_after\n",
    "        lambda_t_list.append(lambda_t)\n",
    "\n",
    "    # Sum up all lambda values from the list\n",
    "    lambda_t_log = sum(lambda_t_list)\n",
    "\n",
    "    # Create responding lambda_t pymc3 variable with given name (from parameters)\n",
    "    with pm.Model(): \n",
    "        pm.Deterministic(name_lambda_t, tt.exp(lambda_t_log))\n",
    "\n",
    "    return lambda_t_log\n"
   ]
  },
  {
   "cell_type": "code",
   "execution_count": 19,
   "metadata": {},
   "outputs": [],
   "source": [
    "\n",
    "def _make_change_point_RVs(change_points_list, lambda_0, pr_sigma_lambda_0=1):\n",
    "   \n",
    "    def non_hierarchical():\n",
    "        with pm.Model() as Covid19:\n",
    "            lambda_0_log = pm.Normal(\n",
    "                name=\"lambda_0_log\", mu=np.log(lambda_0), sigma=pr_sigma_lambda_0\n",
    "            )\n",
    "        with pm.Model() as Covid19: \n",
    "            pm.Deterministic(\"lambda_0\", tt.exp(lambda_0_log))\n",
    "        lambda_log_list.append(lambda_0_log)\n",
    "\n",
    "        # Create lambda_log list\n",
    "        for i, cp in enumerate(change_points_list):\n",
    "            pr_mean_lambda = np.log(cp[\"pr_median_lambda\"])\n",
    "            with pm.Model() as Covid19:\n",
    "                lambda_cp_log = pm.Normal(\n",
    "                    name=f\"lambda_{i + 1}_log_\",\n",
    "                    mu=pr_mean_lambda,\n",
    "                    sigma=cp[\"pr_sigma_lambda\"],\n",
    "                )\n",
    "            with pm.Model() as Covid19:\n",
    "                pm.Deterministic(f\"lambda_{i + 1}\", tt.exp(lambda_cp_log))\n",
    "            lambda_log_list.append(lambda_cp_log)\n",
    "\n",
    "           \n",
    "        for i, cp in enumerate(change_points_list):\n",
    "            dt_begin_transient = cp[\"pr_mean_date_transient\"]\n",
    "        \n",
    "        \n",
    "            prior_mean = 10\n",
    "            with pm.Model() as Covid19:\n",
    "                tr_time = pm.Normal(\n",
    "                    name=f\"transient_day_{i + 1}\",\n",
    "                    mu=prior_mean,\n",
    "                    sigma=cp[\"pr_sigma_date_transient\"],\n",
    "                )\n",
    "            tr_time_list.append(tr_time)\n",
    "            \n",
    "            \n",
    "        for i, cp in enumerate(change_points_list):\n",
    "            with pm.Model():\n",
    "                tr_len_log = pm.Normal(\n",
    "                    name= f\"transient_len_{i + 1}_log_t\",\n",
    "                    mu=np.log(cp[\"pr_median_transient_len\"]),\n",
    "                    sigma=cp[\"pr_sigma_transient_len\"],\n",
    "                )\n",
    "            with pm.Model() as Covid19:\n",
    "                pm.Deterministic(f\"transient_len_{i + 1}\", tt.exp(tr_len_log))\n",
    "                tr_len_list.append(tt.exp(tr_len_log))\n",
    "            \n",
    "    default_priors_change_points = dict(\n",
    "        pr_median_lambda=lambda_0,\n",
    "        pr_sigma_lambda=pr_sigma_lambda_0,\n",
    "        pr_sigma_date_transient=2,\n",
    "        pr_median_transient_len=4,\n",
    "        pr_sigma_transient_len=0.5,\n",
    "        pr_mean_date_transient=None,\n",
    "        relative_to_previous=False,\n",
    "        pr_factor_to_previous=1,\n",
    "        )\n",
    "\n",
    "    for cp_priors in change_points_list:\n",
    "        set_missing_priors_with_default(cp_priors, default_priors_change_points)\n",
    "\n",
    "    \n",
    "    lambda_log_list = []\n",
    "    tr_time_list = []\n",
    "    tr_len_list = []\n",
    "    \n",
    "    non_hierarchical()\n",
    "\n",
    "\n",
    "    \n",
    "\n",
    "    return lambda_log_list, tr_time_list, tr_len_list\n",
    "\n"
   ]
  },
  {
   "cell_type": "code",
   "execution_count": 20,
   "metadata": {},
   "outputs": [],
   "source": [
    "\n",
    "def _smooth_step_function(start_val, end_val, t_begin, t_end, t_total):\n",
    "   \n",
    "    t = np.arange(t_total)\n",
    "\n",
    "    return (\n",
    "         tt.clip((t - t_begin) / (t_end - t_begin), 0, 1) * (end_val - start_val)\n",
    "        + start_val\n",
    "    )"
   ]
  },
  {
   "cell_type": "code",
   "execution_count": 21,
   "metadata": {},
   "outputs": [],
   "source": [
    "    import datetime\n",
    "    prior_date_strong_dist_begin = datetime.datetime(2020, 3, 16)\n",
    "    prior_date_contact_ban_begin = datetime.datetime(2020, 3, 23)\n",
    "\n",
    "    change_points = [\n",
    "        dict(\n",
    "            pr_mean_date_transient=prior_date_strong_dist_begin,\n",
    "            pr_sigma_date_transient=6,\n",
    "            pr_median_lambda=1 / 8,\n",
    "            pr_sigma_lambda=1,\n",
    "        ),\n",
    "        dict(\n",
    "            pr_mean_date_transient=prior_date_contact_ban_begin,\n",
    "            pr_sigma_date_transient=6,\n",
    "            pr_median_lambda=1 / 8 / 2,\n",
    "            pr_sigma_lambda=1,\n",
    "        ),\n",
    "    ]\n",
    "    change_points = change_points[0:2]"
   ]
  },
  {
   "cell_type": "code",
   "execution_count": 22,
   "metadata": {},
   "outputs": [
    {
     "data": {
      "text/plain": [
       "[{'pr_mean_date_transient': datetime.datetime(2020, 3, 16, 0, 0),\n",
       "  'pr_sigma_date_transient': 6,\n",
       "  'pr_median_lambda': 0.125,\n",
       "  'pr_sigma_lambda': 1},\n",
       " {'pr_mean_date_transient': datetime.datetime(2020, 3, 23, 0, 0),\n",
       "  'pr_sigma_date_transient': 6,\n",
       "  'pr_median_lambda': 0.0625,\n",
       "  'pr_sigma_lambda': 1}]"
      ]
     },
     "execution_count": 22,
     "metadata": {},
     "output_type": "execute_result"
    }
   ],
   "source": [
    "change_points"
   ]
  },
  {
   "cell_type": "code",
   "execution_count": 23,
   "metadata": {},
   "outputs": [],
   "source": [
    "def infec_prior():\n",
    "    with pm.Model()  as Covid19:\n",
    "        a = pm.Gamma(\n",
    "        name = 'a', alpha =1, beta =1\n",
    "        )\n",
    "    with pm.Model() as Covid19:\n",
    "        b = pm.Gamma(\n",
    "        name = 'b', alpha =1, beta =1\n",
    "        )\n",
    "    return(a,b)"
   ]
  },
  {
   "cell_type": "code",
   "execution_count": 44,
   "metadata": {},
   "outputs": [],
   "source": [
    "\n",
    "def SPEQIR(\n",
    "    logb,  population,  gamma =0.34,  prior_E=50, prior_gamma = 1/8, pr_incubation= 5,\n",
    "    pr_s_incubation= 2, sigma_incubation=0.4, pr_sigma_gamma=0.2):\n",
    "    \n",
    "    #Prior Exposed\n",
    "    \n",
    "    if isinstance(prior_E, tt.Variable):\n",
    "        \n",
    "        Exposed = prior_E\n",
    "    else:\n",
    "        with pm.Model() as Covid19:\n",
    "            Exposed = pm.HalfCauchy(\n",
    "                name ='exposed', beta=prior_E, shape=(16,138)\n",
    "                )\n",
    "    a,b = infec_prior()    \n",
    " \n",
    "    # Prior Infectious\n",
    "    with pm.Model() as Covid19:\n",
    "        Incubated = pm.Gamma(\n",
    "            name = 'incubated',  alpha = a, beta = b, shape= 138\n",
    "        )\n",
    "\n",
    "    S = population - Incubated - pm.math.sum(Exposed, axis=0) \n",
    "\n",
    "    lambda_t = tt.exp(logb)\n",
    "    new_I = tt.zeros_like(Incubated)\n",
    "\n",
    "    if pr_s_incubation is None:\n",
    "        median_incubation = pr_incubation\n",
    "    else:\n",
    "        with pm.Model() as Covid19:\n",
    "            median_incubation = pm.Normal(\n",
    "                name = 'inc', mu=pr_incubation,\n",
    "                sigma=pr_s_incubation,\n",
    "            )\n",
    "    \n",
    "    \n",
    "\n",
    "    # Choose transition rates (E to I) according to incubation period distribution\n",
    "    \n",
    "    x = np.arange(1, 16)[:, None]\n",
    "\n",
    "\n",
    "    ro = tt_lognormal(x, tt.log(median_incubation), sigma_incubation)\n",
    "\n",
    "    # Runs SEIR model:\n",
    "    def next_day(\n",
    "        lambda_t, S_t, nE1, nE2, nE3, nE4,nE5, nE6, nE7,nE8, nE9, nE10, nE11, nE12,nE13,nE14,nE15, I_t,_,  gamma,ro, N\n",
    "    ):\n",
    "        new_E_t = lambda_t / N * I_t * S_t\n",
    "        S_t = S_t - new_E_t\n",
    "        new_I_t = (\n",
    "            ro[0] * nE1\n",
    "            + ro[1] * nE2\n",
    "            + ro[2] * nE3\n",
    "            + ro[3] * nE4\n",
    "            + ro[4] * nE5\n",
    "            + ro[5] * nE6\n",
    "            + ro[6] * nE7\n",
    "            + ro[7] * nE8\n",
    "            + ro[8] * nE9\n",
    "            + ro[9] * nE10\n",
    "            + ro[10]* nE11\n",
    "            + ro[11] * nE12\n",
    "            + ro[12] * nE13\n",
    "            + ro[13] * nE14\n",
    "            + ro[14] * nE15\n",
    "            \n",
    "        )\n",
    "        I_t = I_t + new_I_t - (gamma)* I_t\n",
    "        I_t = tt.clip(I_t, -1, N - 1)  # for stability\n",
    "        S_t = tt.clip(S_t, -1, N)\n",
    "        return S_t, new_E_t, I_t, new_I_t\n",
    "\n",
    "    outputs, _ = theano.scan(\n",
    "        fn=next_day,\n",
    "        sequences=[lambda_t],\n",
    "        outputs_info=[\n",
    "            S,\n",
    "            dict( initial = Exposed, taps=[-1, -2, -3, -4, -5, -6, -7, -8, -9, -10,-11,-12,-13,-14,-15]),\n",
    "            Incubated,\n",
    "            new_I,\n",
    "        ],\n",
    "        non_sequences=[gamma, ro, population],\n",
    "    )\n",
    "    S_t, new_E_t, I_t, new_I_t = outputs\n",
    "    with pm.Model()  as Covid19:\n",
    "        pm.Deterministic('new_I_t', new_I_t)\n",
    "        pm.Deterministic('S_t', S_t)\n",
    "        pm.Deterministic('I_t', I_t)\n",
    "        pm.Deterministic('new_E_t', new_E_t)\n",
    "\n",
    "    return new_I_t\n",
    "\n",
    "\n"
   ]
  },
  {
   "cell_type": "code",
   "execution_count": 45,
   "metadata": {},
   "outputs": [],
   "source": [
    "date_begin_data = datetime.datetime(2020, 3, 10)\n",
    "date_end_data = datetime.datetime(2020, 3, 13)"
   ]
  },
  {
   "cell_type": "code",
   "execution_count": 46,
   "metadata": {},
   "outputs": [],
   "source": [
    "\n",
    "        cases=smoothed,\n",
    "        data_begin=date_begin_data,\n",
    "        diff_len = 16,\n",
    "        population= 17447213,\n"
   ]
  },
  {
   "cell_type": "code",
   "execution_count": 47,
   "metadata": {},
   "outputs": [],
   "source": [
    "\n",
    "        lambda_t_log = lambda_t_with_sigmoids(\n",
    "          change_points, len(smoothed) + 16 ,  pr_median_lambda=0.4\n",
    "        )\n"
   ]
  },
  {
   "cell_type": "code",
   "execution_count": 48,
   "metadata": {},
   "outputs": [],
   "source": [
    "sim_I = SPEQIR(lambda_t_log, 17447213)"
   ]
  },
  {
   "cell_type": "code",
   "execution_count": 63,
   "metadata": {},
   "outputs": [],
   "source": [
    "def student_t_likelihood(\n",
    "    data_obs,\n",
    "    cases,\n",
    "    data_len,\n",
    "    pr_beta_sigma_obs=30,\n",
    "    nu=4,\n",
    "    offset_sigma=1,\n",
    "):  \n",
    "    \n",
    "        \n",
    "        \n",
    "    with pm.Model() as Covid19:\n",
    "        sigma_obs = pm.HalfCauchy(\n",
    "        'sigmaobs', beta=pr_beta_sigma_obs, shape = 138,\n",
    "    )\n",
    "    \n",
    "    with Covid19:\n",
    "        I_t = pm.StudentT(\n",
    "            name='name_student_t',\n",
    "            nu=nu,\n",
    "            mu=cases[:data_len],\n",
    "            sigma=tt.abs_(cases[:data_len] + offset_sigma) ** 0.5\n",
    "            * sigma_obs,  # offset and tt.abs to avoid nans\n",
    "            observed =data_obs,\n",
    "    )\n",
    "    with Covid19:\n",
    "        samples = pm.sample(draws=1000, tune=5000)\n",
    "        "
   ]
  },
  {
   "cell_type": "code",
   "execution_count": 64,
   "metadata": {},
   "outputs": [
    {
     "name": "stderr",
     "output_type": "stream",
     "text": [
      "Auto-assigning NUTS sampler...\n",
      "Initializing NUTS using jitter+adapt_diag...\n"
     ]
    },
    {
     "ename": "MissingInputError",
     "evalue": "Input 0 of the graph (indices start from 0), used to compute Elemwise{log,no_inplace}(inc), was not provided and not given a value. Use the Theano flag exception_verbosity='high', for more information on this error.",
     "output_type": "error",
     "traceback": [
      "\u001b[1;31m---------------------------------------------------------------------------\u001b[0m",
      "\u001b[1;31mMissingInputError\u001b[0m                         Traceback (most recent call last)",
      "\u001b[1;32m<ipython-input-64-8b3639b2e077>\u001b[0m in \u001b[0;36m<module>\u001b[1;34m\u001b[0m\n\u001b[1;32m----> 1\u001b[1;33m \u001b[0mI_t\u001b[0m \u001b[1;33m=\u001b[0m \u001b[0mstudent_t_likelihood\u001b[0m\u001b[1;33m(\u001b[0m\u001b[0mcases\u001b[0m\u001b[1;33m,\u001b[0m\u001b[0msim_I\u001b[0m\u001b[1;33m,\u001b[0m \u001b[0mlen\u001b[0m\u001b[1;33m(\u001b[0m\u001b[0mcases\u001b[0m\u001b[1;33m)\u001b[0m\u001b[1;33m)\u001b[0m\u001b[1;33m\u001b[0m\u001b[1;33m\u001b[0m\u001b[0m\n\u001b[0m",
      "\u001b[1;32m<ipython-input-63-694c6432eddb>\u001b[0m in \u001b[0;36mstudent_t_likelihood\u001b[1;34m(data_obs, cases, data_len, pr_beta_sigma_obs, nu, offset_sigma)\u001b[0m\n\u001b[0;32m     25\u001b[0m     )\n\u001b[0;32m     26\u001b[0m     \u001b[1;32mwith\u001b[0m \u001b[0mCovid19\u001b[0m\u001b[1;33m:\u001b[0m\u001b[1;33m\u001b[0m\u001b[1;33m\u001b[0m\u001b[0m\n\u001b[1;32m---> 27\u001b[1;33m         \u001b[0msamples\u001b[0m \u001b[1;33m=\u001b[0m \u001b[0mpm\u001b[0m\u001b[1;33m.\u001b[0m\u001b[0msample\u001b[0m\u001b[1;33m(\u001b[0m\u001b[0mdraws\u001b[0m\u001b[1;33m=\u001b[0m\u001b[1;36m1000\u001b[0m\u001b[1;33m,\u001b[0m \u001b[0mtune\u001b[0m\u001b[1;33m=\u001b[0m\u001b[1;36m5000\u001b[0m\u001b[1;33m)\u001b[0m\u001b[1;33m\u001b[0m\u001b[1;33m\u001b[0m\u001b[0m\n\u001b[0m\u001b[0;32m     28\u001b[0m \u001b[1;33m\u001b[0m\u001b[0m\n",
      "\u001b[1;32m~\\anaconda3\\lib\\site-packages\\pymc3\\sampling.py\u001b[0m in \u001b[0;36msample\u001b[1;34m(draws, step, init, n_init, start, trace, chain_idx, chains, cores, tune, progressbar, model, random_seed, discard_tuned_samples, compute_convergence_checks, **kwargs)\u001b[0m\n\u001b[0;32m    420\u001b[0m                 \u001b[0mrandom_seed\u001b[0m\u001b[1;33m=\u001b[0m\u001b[0mrandom_seed\u001b[0m\u001b[1;33m,\u001b[0m\u001b[1;33m\u001b[0m\u001b[1;33m\u001b[0m\u001b[0m\n\u001b[0;32m    421\u001b[0m                 \u001b[0mprogressbar\u001b[0m\u001b[1;33m=\u001b[0m\u001b[0mprogressbar\u001b[0m\u001b[1;33m,\u001b[0m\u001b[1;33m\u001b[0m\u001b[1;33m\u001b[0m\u001b[0m\n\u001b[1;32m--> 422\u001b[1;33m                 \u001b[1;33m**\u001b[0m\u001b[0mkwargs\u001b[0m\u001b[1;33m\u001b[0m\u001b[1;33m\u001b[0m\u001b[0m\n\u001b[0m\u001b[0;32m    423\u001b[0m             )\n\u001b[0;32m    424\u001b[0m             \u001b[1;32mif\u001b[0m \u001b[0mstart\u001b[0m \u001b[1;32mis\u001b[0m \u001b[1;32mNone\u001b[0m\u001b[1;33m:\u001b[0m\u001b[1;33m\u001b[0m\u001b[1;33m\u001b[0m\u001b[0m\n",
      "\u001b[1;32m~\\anaconda3\\lib\\site-packages\\pymc3\\sampling.py\u001b[0m in \u001b[0;36minit_nuts\u001b[1;34m(init, chains, n_init, model, random_seed, progressbar, **kwargs)\u001b[0m\n\u001b[0;32m   1687\u001b[0m         \u001b[1;32mraise\u001b[0m \u001b[0mValueError\u001b[0m\u001b[1;33m(\u001b[0m\u001b[1;34m\"Unknown initializer: {}.\"\u001b[0m\u001b[1;33m.\u001b[0m\u001b[0mformat\u001b[0m\u001b[1;33m(\u001b[0m\u001b[0minit\u001b[0m\u001b[1;33m)\u001b[0m\u001b[1;33m)\u001b[0m\u001b[1;33m\u001b[0m\u001b[1;33m\u001b[0m\u001b[0m\n\u001b[0;32m   1688\u001b[0m \u001b[1;33m\u001b[0m\u001b[0m\n\u001b[1;32m-> 1689\u001b[1;33m     \u001b[0mstep\u001b[0m \u001b[1;33m=\u001b[0m \u001b[0mpm\u001b[0m\u001b[1;33m.\u001b[0m\u001b[0mNUTS\u001b[0m\u001b[1;33m(\u001b[0m\u001b[0mpotential\u001b[0m\u001b[1;33m=\u001b[0m\u001b[0mpotential\u001b[0m\u001b[1;33m,\u001b[0m \u001b[0mmodel\u001b[0m\u001b[1;33m=\u001b[0m\u001b[0mmodel\u001b[0m\u001b[1;33m,\u001b[0m \u001b[1;33m**\u001b[0m\u001b[0mkwargs\u001b[0m\u001b[1;33m)\u001b[0m\u001b[1;33m\u001b[0m\u001b[1;33m\u001b[0m\u001b[0m\n\u001b[0m\u001b[0;32m   1690\u001b[0m \u001b[1;33m\u001b[0m\u001b[0m\n\u001b[0;32m   1691\u001b[0m     \u001b[1;32mreturn\u001b[0m \u001b[0mstart\u001b[0m\u001b[1;33m,\u001b[0m \u001b[0mstep\u001b[0m\u001b[1;33m\u001b[0m\u001b[1;33m\u001b[0m\u001b[0m\n",
      "\u001b[1;32m~\\anaconda3\\lib\\site-packages\\pymc3\\step_methods\\hmc\\nuts.py\u001b[0m in \u001b[0;36m__init__\u001b[1;34m(self, vars, max_treedepth, early_max_treedepth, **kwargs)\u001b[0m\n\u001b[0;32m    146\u001b[0m         \u001b[0;31m`\u001b[0m\u001b[0mpm\u001b[0m\u001b[1;33m.\u001b[0m\u001b[0msample\u001b[0m\u001b[0;31m`\u001b[0m \u001b[0mto\u001b[0m \u001b[0mthe\u001b[0m \u001b[0mdesired\u001b[0m \u001b[0mnumber\u001b[0m \u001b[0mof\u001b[0m \u001b[0mtuning\u001b[0m \u001b[0msteps\u001b[0m\u001b[1;33m.\u001b[0m\u001b[1;33m\u001b[0m\u001b[1;33m\u001b[0m\u001b[0m\n\u001b[0;32m    147\u001b[0m         \"\"\"\n\u001b[1;32m--> 148\u001b[1;33m         \u001b[0msuper\u001b[0m\u001b[1;33m(\u001b[0m\u001b[1;33m)\u001b[0m\u001b[1;33m.\u001b[0m\u001b[0m__init__\u001b[0m\u001b[1;33m(\u001b[0m\u001b[0mvars\u001b[0m\u001b[1;33m,\u001b[0m \u001b[1;33m**\u001b[0m\u001b[0mkwargs\u001b[0m\u001b[1;33m)\u001b[0m\u001b[1;33m\u001b[0m\u001b[1;33m\u001b[0m\u001b[0m\n\u001b[0m\u001b[0;32m    149\u001b[0m \u001b[1;33m\u001b[0m\u001b[0m\n\u001b[0;32m    150\u001b[0m         \u001b[0mself\u001b[0m\u001b[1;33m.\u001b[0m\u001b[0mmax_treedepth\u001b[0m \u001b[1;33m=\u001b[0m \u001b[0mmax_treedepth\u001b[0m\u001b[1;33m\u001b[0m\u001b[1;33m\u001b[0m\u001b[0m\n",
      "\u001b[1;32m~\\anaconda3\\lib\\site-packages\\pymc3\\step_methods\\hmc\\base_hmc.py\u001b[0m in \u001b[0;36m__init__\u001b[1;34m(self, vars, scaling, step_scale, is_cov, model, blocked, potential, dtype, Emax, target_accept, gamma, k, t0, adapt_step_size, step_rand, **theano_kwargs)\u001b[0m\n\u001b[0;32m     70\u001b[0m         \u001b[0mvars\u001b[0m \u001b[1;33m=\u001b[0m \u001b[0minputvars\u001b[0m\u001b[1;33m(\u001b[0m\u001b[0mvars\u001b[0m\u001b[1;33m)\u001b[0m\u001b[1;33m\u001b[0m\u001b[1;33m\u001b[0m\u001b[0m\n\u001b[0;32m     71\u001b[0m \u001b[1;33m\u001b[0m\u001b[0m\n\u001b[1;32m---> 72\u001b[1;33m         \u001b[0msuper\u001b[0m\u001b[1;33m(\u001b[0m\u001b[1;33m)\u001b[0m\u001b[1;33m.\u001b[0m\u001b[0m__init__\u001b[0m\u001b[1;33m(\u001b[0m\u001b[0mvars\u001b[0m\u001b[1;33m,\u001b[0m \u001b[0mblocked\u001b[0m\u001b[1;33m=\u001b[0m\u001b[0mblocked\u001b[0m\u001b[1;33m,\u001b[0m \u001b[0mmodel\u001b[0m\u001b[1;33m=\u001b[0m\u001b[0mmodel\u001b[0m\u001b[1;33m,\u001b[0m \u001b[0mdtype\u001b[0m\u001b[1;33m=\u001b[0m\u001b[0mdtype\u001b[0m\u001b[1;33m,\u001b[0m \u001b[1;33m**\u001b[0m\u001b[0mtheano_kwargs\u001b[0m\u001b[1;33m)\u001b[0m\u001b[1;33m\u001b[0m\u001b[1;33m\u001b[0m\u001b[0m\n\u001b[0m\u001b[0;32m     73\u001b[0m \u001b[1;33m\u001b[0m\u001b[0m\n\u001b[0;32m     74\u001b[0m         \u001b[0mself\u001b[0m\u001b[1;33m.\u001b[0m\u001b[0madapt_step_size\u001b[0m \u001b[1;33m=\u001b[0m \u001b[0madapt_step_size\u001b[0m\u001b[1;33m\u001b[0m\u001b[1;33m\u001b[0m\u001b[0m\n",
      "\u001b[1;32m~\\anaconda3\\lib\\site-packages\\pymc3\\step_methods\\arraystep.py\u001b[0m in \u001b[0;36m__init__\u001b[1;34m(self, vars, model, blocked, dtype, **theano_kwargs)\u001b[0m\n\u001b[0;32m    226\u001b[0m \u001b[1;33m\u001b[0m\u001b[0m\n\u001b[0;32m    227\u001b[0m         func = model.logp_dlogp_function(\n\u001b[1;32m--> 228\u001b[1;33m             vars, dtype=dtype, **theano_kwargs)\n\u001b[0m\u001b[0;32m    229\u001b[0m \u001b[1;33m\u001b[0m\u001b[0m\n\u001b[0;32m    230\u001b[0m         \u001b[1;31m# handle edge case discovered in #2948\u001b[0m\u001b[1;33m\u001b[0m\u001b[1;33m\u001b[0m\u001b[1;33m\u001b[0m\u001b[0m\n",
      "\u001b[1;32m~\\anaconda3\\lib\\site-packages\\pymc3\\model.py\u001b[0m in \u001b[0;36mlogp_dlogp_function\u001b[1;34m(self, grad_vars, **kwargs)\u001b[0m\n\u001b[0;32m    817\u001b[0m         \u001b[0mvarnames\u001b[0m \u001b[1;33m=\u001b[0m \u001b[1;33m[\u001b[0m\u001b[0mvar\u001b[0m\u001b[1;33m.\u001b[0m\u001b[0mname\u001b[0m \u001b[1;32mfor\u001b[0m \u001b[0mvar\u001b[0m \u001b[1;32min\u001b[0m \u001b[0mgrad_vars\u001b[0m\u001b[1;33m]\u001b[0m\u001b[1;33m\u001b[0m\u001b[1;33m\u001b[0m\u001b[0m\n\u001b[0;32m    818\u001b[0m         \u001b[0mextra_vars\u001b[0m \u001b[1;33m=\u001b[0m \u001b[1;33m[\u001b[0m\u001b[0mvar\u001b[0m \u001b[1;32mfor\u001b[0m \u001b[0mvar\u001b[0m \u001b[1;32min\u001b[0m \u001b[0mself\u001b[0m\u001b[1;33m.\u001b[0m\u001b[0mfree_RVs\u001b[0m \u001b[1;32mif\u001b[0m \u001b[0mvar\u001b[0m\u001b[1;33m.\u001b[0m\u001b[0mname\u001b[0m \u001b[1;32mnot\u001b[0m \u001b[1;32min\u001b[0m \u001b[0mvarnames\u001b[0m\u001b[1;33m]\u001b[0m\u001b[1;33m\u001b[0m\u001b[1;33m\u001b[0m\u001b[0m\n\u001b[1;32m--> 819\u001b[1;33m         \u001b[1;32mreturn\u001b[0m \u001b[0mValueGradFunction\u001b[0m\u001b[1;33m(\u001b[0m\u001b[0mself\u001b[0m\u001b[1;33m.\u001b[0m\u001b[0mlogpt\u001b[0m\u001b[1;33m,\u001b[0m \u001b[0mgrad_vars\u001b[0m\u001b[1;33m,\u001b[0m \u001b[0mextra_vars\u001b[0m\u001b[1;33m,\u001b[0m \u001b[1;33m**\u001b[0m\u001b[0mkwargs\u001b[0m\u001b[1;33m)\u001b[0m\u001b[1;33m\u001b[0m\u001b[1;33m\u001b[0m\u001b[0m\n\u001b[0m\u001b[0;32m    820\u001b[0m \u001b[1;33m\u001b[0m\u001b[0m\n\u001b[0;32m    821\u001b[0m     \u001b[1;33m@\u001b[0m\u001b[0mproperty\u001b[0m\u001b[1;33m\u001b[0m\u001b[1;33m\u001b[0m\u001b[0m\n",
      "\u001b[1;32m~\\anaconda3\\lib\\site-packages\\pymc3\\model.py\u001b[0m in \u001b[0;36m__init__\u001b[1;34m(self, cost, grad_vars, extra_vars, dtype, casting, **kwargs)\u001b[0m\n\u001b[0;32m    553\u001b[0m \u001b[1;33m\u001b[0m\u001b[0m\n\u001b[0;32m    554\u001b[0m         self._theano_function = theano.function(\n\u001b[1;32m--> 555\u001b[1;33m             inputs, [self._cost_joined, grad], givens=givens, **kwargs)\n\u001b[0m\u001b[0;32m    556\u001b[0m \u001b[1;33m\u001b[0m\u001b[0m\n\u001b[0;32m    557\u001b[0m     \u001b[1;32mdef\u001b[0m \u001b[0mset_extra_values\u001b[0m\u001b[1;33m(\u001b[0m\u001b[0mself\u001b[0m\u001b[1;33m,\u001b[0m \u001b[0mextra_vars\u001b[0m\u001b[1;33m)\u001b[0m\u001b[1;33m:\u001b[0m\u001b[1;33m\u001b[0m\u001b[1;33m\u001b[0m\u001b[0m\n",
      "\u001b[1;32m~\\anaconda3\\lib\\site-packages\\theano\\compile\\function.py\u001b[0m in \u001b[0;36mfunction\u001b[1;34m(inputs, outputs, mode, updates, givens, no_default_updates, accept_inplace, name, rebuild_strict, allow_input_downcast, profile, on_unused_input)\u001b[0m\n\u001b[0;32m    315\u001b[0m                    \u001b[0mon_unused_input\u001b[0m\u001b[1;33m=\u001b[0m\u001b[0mon_unused_input\u001b[0m\u001b[1;33m,\u001b[0m\u001b[1;33m\u001b[0m\u001b[1;33m\u001b[0m\u001b[0m\n\u001b[0;32m    316\u001b[0m                    \u001b[0mprofile\u001b[0m\u001b[1;33m=\u001b[0m\u001b[0mprofile\u001b[0m\u001b[1;33m,\u001b[0m\u001b[1;33m\u001b[0m\u001b[1;33m\u001b[0m\u001b[0m\n\u001b[1;32m--> 317\u001b[1;33m                    output_keys=output_keys)\n\u001b[0m\u001b[0;32m    318\u001b[0m     \u001b[1;32mreturn\u001b[0m \u001b[0mfn\u001b[0m\u001b[1;33m\u001b[0m\u001b[1;33m\u001b[0m\u001b[0m\n",
      "\u001b[1;32m~\\anaconda3\\lib\\site-packages\\theano\\compile\\pfunc.py\u001b[0m in \u001b[0;36mpfunc\u001b[1;34m(params, outputs, mode, updates, givens, no_default_updates, accept_inplace, name, rebuild_strict, allow_input_downcast, profile, on_unused_input, output_keys)\u001b[0m\n\u001b[0;32m    484\u001b[0m                          \u001b[0maccept_inplace\u001b[0m\u001b[1;33m=\u001b[0m\u001b[0maccept_inplace\u001b[0m\u001b[1;33m,\u001b[0m \u001b[0mname\u001b[0m\u001b[1;33m=\u001b[0m\u001b[0mname\u001b[0m\u001b[1;33m,\u001b[0m\u001b[1;33m\u001b[0m\u001b[1;33m\u001b[0m\u001b[0m\n\u001b[0;32m    485\u001b[0m                          \u001b[0mprofile\u001b[0m\u001b[1;33m=\u001b[0m\u001b[0mprofile\u001b[0m\u001b[1;33m,\u001b[0m \u001b[0mon_unused_input\u001b[0m\u001b[1;33m=\u001b[0m\u001b[0mon_unused_input\u001b[0m\u001b[1;33m,\u001b[0m\u001b[1;33m\u001b[0m\u001b[1;33m\u001b[0m\u001b[0m\n\u001b[1;32m--> 486\u001b[1;33m                          output_keys=output_keys)\n\u001b[0m\u001b[0;32m    487\u001b[0m \u001b[1;33m\u001b[0m\u001b[0m\n\u001b[0;32m    488\u001b[0m \u001b[1;33m\u001b[0m\u001b[0m\n",
      "\u001b[1;32m~\\anaconda3\\lib\\site-packages\\theano\\compile\\function_module.py\u001b[0m in \u001b[0;36morig_function\u001b[1;34m(inputs, outputs, mode, accept_inplace, name, profile, on_unused_input, output_keys)\u001b[0m\n\u001b[0;32m   1837\u001b[0m                   \u001b[0mon_unused_input\u001b[0m\u001b[1;33m=\u001b[0m\u001b[0mon_unused_input\u001b[0m\u001b[1;33m,\u001b[0m\u001b[1;33m\u001b[0m\u001b[1;33m\u001b[0m\u001b[0m\n\u001b[0;32m   1838\u001b[0m                   \u001b[0moutput_keys\u001b[0m\u001b[1;33m=\u001b[0m\u001b[0moutput_keys\u001b[0m\u001b[1;33m,\u001b[0m\u001b[1;33m\u001b[0m\u001b[1;33m\u001b[0m\u001b[0m\n\u001b[1;32m-> 1839\u001b[1;33m                   name=name)\n\u001b[0m\u001b[0;32m   1840\u001b[0m         \u001b[1;32mwith\u001b[0m \u001b[0mtheano\u001b[0m\u001b[1;33m.\u001b[0m\u001b[0mchange_flags\u001b[0m\u001b[1;33m(\u001b[0m\u001b[0mcompute_test_value\u001b[0m\u001b[1;33m=\u001b[0m\u001b[1;34m\"off\"\u001b[0m\u001b[1;33m)\u001b[0m\u001b[1;33m:\u001b[0m\u001b[1;33m\u001b[0m\u001b[1;33m\u001b[0m\u001b[0m\n\u001b[0;32m   1841\u001b[0m             \u001b[0mfn\u001b[0m \u001b[1;33m=\u001b[0m \u001b[0mm\u001b[0m\u001b[1;33m.\u001b[0m\u001b[0mcreate\u001b[0m\u001b[1;33m(\u001b[0m\u001b[0mdefaults\u001b[0m\u001b[1;33m)\u001b[0m\u001b[1;33m\u001b[0m\u001b[1;33m\u001b[0m\u001b[0m\n",
      "\u001b[1;32m~\\anaconda3\\lib\\site-packages\\theano\\compile\\function_module.py\u001b[0m in \u001b[0;36m__init__\u001b[1;34m(self, inputs, outputs, mode, accept_inplace, function_builder, profile, on_unused_input, fgraph, output_keys, name)\u001b[0m\n\u001b[0;32m   1485\u001b[0m             \u001b[1;31m# OUTPUT VARIABLES)\u001b[0m\u001b[1;33m\u001b[0m\u001b[1;33m\u001b[0m\u001b[1;33m\u001b[0m\u001b[0m\n\u001b[0;32m   1486\u001b[0m             fgraph, additional_outputs = std_fgraph(inputs, outputs,\n\u001b[1;32m-> 1487\u001b[1;33m                                                     accept_inplace)\n\u001b[0m\u001b[0;32m   1488\u001b[0m             \u001b[0mfgraph\u001b[0m\u001b[1;33m.\u001b[0m\u001b[0mprofile\u001b[0m \u001b[1;33m=\u001b[0m \u001b[0mprofile\u001b[0m\u001b[1;33m\u001b[0m\u001b[1;33m\u001b[0m\u001b[0m\n\u001b[0;32m   1489\u001b[0m         \u001b[1;32melse\u001b[0m\u001b[1;33m:\u001b[0m\u001b[1;33m\u001b[0m\u001b[1;33m\u001b[0m\u001b[0m\n",
      "\u001b[1;32m~\\anaconda3\\lib\\site-packages\\theano\\compile\\function_module.py\u001b[0m in \u001b[0;36mstd_fgraph\u001b[1;34m(input_specs, output_specs, accept_inplace)\u001b[0m\n\u001b[0;32m    179\u001b[0m \u001b[1;33m\u001b[0m\u001b[0m\n\u001b[0;32m    180\u001b[0m     fgraph = gof.fg.FunctionGraph(orig_inputs, orig_outputs,\n\u001b[1;32m--> 181\u001b[1;33m                                   update_mapping=update_mapping)\n\u001b[0m\u001b[0;32m    182\u001b[0m \u001b[1;33m\u001b[0m\u001b[0m\n\u001b[0;32m    183\u001b[0m     \u001b[1;32mfor\u001b[0m \u001b[0mnode\u001b[0m \u001b[1;32min\u001b[0m \u001b[0mfgraph\u001b[0m\u001b[1;33m.\u001b[0m\u001b[0mapply_nodes\u001b[0m\u001b[1;33m:\u001b[0m\u001b[1;33m\u001b[0m\u001b[1;33m\u001b[0m\u001b[0m\n",
      "\u001b[1;32m~\\anaconda3\\lib\\site-packages\\theano\\gof\\fg.py\u001b[0m in \u001b[0;36m__init__\u001b[1;34m(self, inputs, outputs, features, clone, update_mapping)\u001b[0m\n\u001b[0;32m    173\u001b[0m \u001b[1;33m\u001b[0m\u001b[0m\n\u001b[0;32m    174\u001b[0m         \u001b[1;32mfor\u001b[0m \u001b[0moutput\u001b[0m \u001b[1;32min\u001b[0m \u001b[0moutputs\u001b[0m\u001b[1;33m:\u001b[0m\u001b[1;33m\u001b[0m\u001b[1;33m\u001b[0m\u001b[0m\n\u001b[1;32m--> 175\u001b[1;33m             \u001b[0mself\u001b[0m\u001b[1;33m.\u001b[0m\u001b[0m__import_r__\u001b[0m\u001b[1;33m(\u001b[0m\u001b[0moutput\u001b[0m\u001b[1;33m,\u001b[0m \u001b[0mreason\u001b[0m\u001b[1;33m=\u001b[0m\u001b[1;34m\"init\"\u001b[0m\u001b[1;33m)\u001b[0m\u001b[1;33m\u001b[0m\u001b[1;33m\u001b[0m\u001b[0m\n\u001b[0m\u001b[0;32m    176\u001b[0m         \u001b[1;32mfor\u001b[0m \u001b[0mi\u001b[0m\u001b[1;33m,\u001b[0m \u001b[0moutput\u001b[0m \u001b[1;32min\u001b[0m \u001b[0menumerate\u001b[0m\u001b[1;33m(\u001b[0m\u001b[0moutputs\u001b[0m\u001b[1;33m)\u001b[0m\u001b[1;33m:\u001b[0m\u001b[1;33m\u001b[0m\u001b[1;33m\u001b[0m\u001b[0m\n\u001b[0;32m    177\u001b[0m             \u001b[0moutput\u001b[0m\u001b[1;33m.\u001b[0m\u001b[0mclients\u001b[0m\u001b[1;33m.\u001b[0m\u001b[0mappend\u001b[0m\u001b[1;33m(\u001b[0m\u001b[1;33m(\u001b[0m\u001b[1;34m'output'\u001b[0m\u001b[1;33m,\u001b[0m \u001b[0mi\u001b[0m\u001b[1;33m)\u001b[0m\u001b[1;33m)\u001b[0m\u001b[1;33m\u001b[0m\u001b[1;33m\u001b[0m\u001b[0m\n",
      "\u001b[1;32m~\\anaconda3\\lib\\site-packages\\theano\\gof\\fg.py\u001b[0m in \u001b[0;36m__import_r__\u001b[1;34m(self, variable, reason)\u001b[0m\n\u001b[0;32m    344\u001b[0m         \u001b[1;31m# Imports the owners of the variables\u001b[0m\u001b[1;33m\u001b[0m\u001b[1;33m\u001b[0m\u001b[1;33m\u001b[0m\u001b[0m\n\u001b[0;32m    345\u001b[0m         \u001b[1;32mif\u001b[0m \u001b[0mvariable\u001b[0m\u001b[1;33m.\u001b[0m\u001b[0mowner\u001b[0m \u001b[1;32mand\u001b[0m \u001b[0mvariable\u001b[0m\u001b[1;33m.\u001b[0m\u001b[0mowner\u001b[0m \u001b[1;32mnot\u001b[0m \u001b[1;32min\u001b[0m \u001b[0mself\u001b[0m\u001b[1;33m.\u001b[0m\u001b[0mapply_nodes\u001b[0m\u001b[1;33m:\u001b[0m\u001b[1;33m\u001b[0m\u001b[1;33m\u001b[0m\u001b[0m\n\u001b[1;32m--> 346\u001b[1;33m                 \u001b[0mself\u001b[0m\u001b[1;33m.\u001b[0m\u001b[0m__import__\u001b[0m\u001b[1;33m(\u001b[0m\u001b[0mvariable\u001b[0m\u001b[1;33m.\u001b[0m\u001b[0mowner\u001b[0m\u001b[1;33m,\u001b[0m \u001b[0mreason\u001b[0m\u001b[1;33m=\u001b[0m\u001b[0mreason\u001b[0m\u001b[1;33m)\u001b[0m\u001b[1;33m\u001b[0m\u001b[1;33m\u001b[0m\u001b[0m\n\u001b[0m\u001b[0;32m    347\u001b[0m         elif (variable.owner is None and\n\u001b[0;32m    348\u001b[0m                 \u001b[1;32mnot\u001b[0m \u001b[0misinstance\u001b[0m\u001b[1;33m(\u001b[0m\u001b[0mvariable\u001b[0m\u001b[1;33m,\u001b[0m \u001b[0mgraph\u001b[0m\u001b[1;33m.\u001b[0m\u001b[0mConstant\u001b[0m\u001b[1;33m)\u001b[0m \u001b[1;32mand\u001b[0m\u001b[1;33m\u001b[0m\u001b[1;33m\u001b[0m\u001b[0m\n",
      "\u001b[1;32m~\\anaconda3\\lib\\site-packages\\theano\\gof\\fg.py\u001b[0m in \u001b[0;36m__import__\u001b[1;34m(self, apply_node, check, reason)\u001b[0m\n\u001b[0;32m    389\u001b[0m                                      \u001b[1;34m\"for more information on this error.\"\u001b[0m\u001b[1;33m\u001b[0m\u001b[1;33m\u001b[0m\u001b[0m\n\u001b[0;32m    390\u001b[0m                                      % (node.inputs.index(r), str(node)))\n\u001b[1;32m--> 391\u001b[1;33m                         \u001b[1;32mraise\u001b[0m \u001b[0mMissingInputError\u001b[0m\u001b[1;33m(\u001b[0m\u001b[0merror_msg\u001b[0m\u001b[1;33m,\u001b[0m \u001b[0mvariable\u001b[0m\u001b[1;33m=\u001b[0m\u001b[0mr\u001b[0m\u001b[1;33m)\u001b[0m\u001b[1;33m\u001b[0m\u001b[1;33m\u001b[0m\u001b[0m\n\u001b[0m\u001b[0;32m    392\u001b[0m \u001b[1;33m\u001b[0m\u001b[0m\n\u001b[0;32m    393\u001b[0m         \u001b[1;32mfor\u001b[0m \u001b[0mnode\u001b[0m \u001b[1;32min\u001b[0m \u001b[0mnew_nodes\u001b[0m\u001b[1;33m:\u001b[0m\u001b[1;33m\u001b[0m\u001b[1;33m\u001b[0m\u001b[0m\n",
      "\u001b[1;31mMissingInputError\u001b[0m: Input 0 of the graph (indices start from 0), used to compute Elemwise{log,no_inplace}(inc), was not provided and not given a value. Use the Theano flag exception_verbosity='high', for more information on this error."
     ]
    }
   ],
   "source": [
    "I_t = student_t_likelihood(cases,sim_I, len(cases))"
   ]
  },
  {
   "cell_type": "code",
   "execution_count": 55,
   "metadata": {},
   "outputs": [
    {
     "ename": "ValueError",
     "evalue": "The model does not contain any free variables.",
     "output_type": "error",
     "traceback": [
      "\u001b[1;31m---------------------------------------------------------------------------\u001b[0m",
      "\u001b[1;31mValueError\u001b[0m                                Traceback (most recent call last)",
      "\u001b[1;32m<ipython-input-55-e307dc57d385>\u001b[0m in \u001b[0;36m<module>\u001b[1;34m\u001b[0m\n\u001b[0;32m      1\u001b[0m \u001b[1;32mwith\u001b[0m \u001b[0mCovid19\u001b[0m\u001b[1;33m:\u001b[0m\u001b[1;33m\u001b[0m\u001b[1;33m\u001b[0m\u001b[0m\n\u001b[1;32m----> 2\u001b[1;33m     \u001b[0msamples\u001b[0m \u001b[1;33m=\u001b[0m \u001b[0mpm\u001b[0m\u001b[1;33m.\u001b[0m\u001b[0msample\u001b[0m\u001b[1;33m(\u001b[0m\u001b[0mdraws\u001b[0m\u001b[1;33m=\u001b[0m\u001b[1;36m1000\u001b[0m\u001b[1;33m,\u001b[0m \u001b[0mtune\u001b[0m\u001b[1;33m=\u001b[0m\u001b[1;36m5000\u001b[0m\u001b[1;33m)\u001b[0m\u001b[1;33m\u001b[0m\u001b[1;33m\u001b[0m\u001b[0m\n\u001b[0m",
      "\u001b[1;32m~\\anaconda3\\lib\\site-packages\\pymc3\\sampling.py\u001b[0m in \u001b[0;36msample\u001b[1;34m(draws, step, init, n_init, start, trace, chain_idx, chains, cores, tune, progressbar, model, random_seed, discard_tuned_samples, compute_convergence_checks, **kwargs)\u001b[0m\n\u001b[0;32m    407\u001b[0m \u001b[1;33m\u001b[0m\u001b[0m\n\u001b[0;32m    408\u001b[0m     \u001b[1;32mif\u001b[0m \u001b[0mmodel\u001b[0m\u001b[1;33m.\u001b[0m\u001b[0mndim\u001b[0m \u001b[1;33m==\u001b[0m \u001b[1;36m0\u001b[0m\u001b[1;33m:\u001b[0m\u001b[1;33m\u001b[0m\u001b[1;33m\u001b[0m\u001b[0m\n\u001b[1;32m--> 409\u001b[1;33m         \u001b[1;32mraise\u001b[0m \u001b[0mValueError\u001b[0m\u001b[1;33m(\u001b[0m\u001b[1;34m\"The model does not contain any free variables.\"\u001b[0m\u001b[1;33m)\u001b[0m\u001b[1;33m\u001b[0m\u001b[1;33m\u001b[0m\u001b[0m\n\u001b[0m\u001b[0;32m    410\u001b[0m \u001b[1;33m\u001b[0m\u001b[0m\n\u001b[0;32m    411\u001b[0m     \u001b[1;32mif\u001b[0m \u001b[0mstep\u001b[0m \u001b[1;32mis\u001b[0m \u001b[1;32mNone\u001b[0m \u001b[1;32mand\u001b[0m \u001b[0minit\u001b[0m \u001b[1;32mis\u001b[0m \u001b[1;32mnot\u001b[0m \u001b[1;32mNone\u001b[0m \u001b[1;32mand\u001b[0m \u001b[0mall_continuous\u001b[0m\u001b[1;33m(\u001b[0m\u001b[0mmodel\u001b[0m\u001b[1;33m.\u001b[0m\u001b[0mvars\u001b[0m\u001b[1;33m)\u001b[0m\u001b[1;33m:\u001b[0m\u001b[1;33m\u001b[0m\u001b[1;33m\u001b[0m\u001b[0m\n",
      "\u001b[1;31mValueError\u001b[0m: The model does not contain any free variables."
     ]
    }
   ],
   "source": [
    "with Covid19:\n",
    "    samples = pm.sample(draws=1000, tune=5000)"
   ]
  },
  {
   "cell_type": "code",
   "execution_count": null,
   "metadata": {},
   "outputs": [],
   "source": []
  }
 ],
 "metadata": {
  "kernelspec": {
   "display_name": "Python 3",
   "language": "python",
   "name": "python3"
  },
  "language_info": {
   "codemirror_mode": {
    "name": "ipython",
    "version": 3
   },
   "file_extension": ".py",
   "mimetype": "text/x-python",
   "name": "python",
   "nbconvert_exporter": "python",
   "pygments_lexer": "ipython3",
   "version": "3.6.10"
  }
 },
 "nbformat": 4,
 "nbformat_minor": 4
}
